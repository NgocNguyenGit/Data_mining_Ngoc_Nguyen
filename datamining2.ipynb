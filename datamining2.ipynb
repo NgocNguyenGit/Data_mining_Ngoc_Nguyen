{
 "cells": [
  {
   "cell_type": "code",
   "execution_count": 1,
   "metadata": {},
   "outputs": [],
   "source": [
    "import numpy as np \n",
    "\n",
    "#1\n",
    "a = np.array([1,4,3,5,3])\n",
    "b = np.array([3.14, 4,2,3,1,5], dtype = np.int32)\n",
    "c = np.array([[2,4,6],[1,2,3]])\n",
    "d = np.array([[-3.0,2.3],[0.1,5.0],[8.0,11.0]])\n",
    "e = np.array(([[2,4],[1,2],[8,9]],[[7,6],[-3,4],[0,8]]))"
   ]
  },
  {
   "cell_type": "code",
   "execution_count": 2,
   "metadata": {},
   "outputs": [
    {
     "name": "stdout",
     "output_type": "stream",
     "text": [
      "2\n",
      "(3, 2)\n",
      "6\n",
      "float64\n",
      "8\n",
      "48\n"
     ]
    }
   ],
   "source": [
    "#2 tried for a, b, c, d\n",
    "print(d.ndim)\n",
    "print(d.shape)\n",
    "print(d.size)\n",
    "print(d.dtype)\n",
    "print(d.itemsize)\n",
    "print(d.nbytes)"
   ]
  },
  {
   "cell_type": "code",
   "execution_count": 3,
   "metadata": {},
   "outputs": [
    {
     "name": "stdout",
     "output_type": "stream",
     "text": [
      "[[0.91894422 0.8740251  0.75967906 0.48882828 0.8941684  0.30180454]\n",
      " [0.00827351 0.79487149 0.21283142 0.36546789 0.82798731 0.45029485]\n",
      " [0.21017927 0.55351596 0.24335909 0.42186638 0.00189585 0.0469336 ]\n",
      " [0.48403911 0.89718437 0.85185291 0.68322201 0.38902018 0.08532552]\n",
      " [0.37586165 0.50740866 0.50714196 0.75716676 0.40118428 0.38370946]\n",
      " [0.28456098 0.25939129 0.64711137 0.93887481 0.73714086 0.46265773]\n",
      " [0.92271287 0.63915666 0.73408435 0.60385352 0.46580891 0.19694889]]\n",
      "0.21283142317351156\n",
      "[[0.91894422 0.8740251  0.75967906 0.48882828 0.8941684  0.30180454]\n",
      " [0.00827351 0.79487149 0.21283142 0.36546789 0.82798731 0.45029485]\n",
      " [0.21017927 0.55351596 0.24335909 0.42186638 0.00189585 0.0469336 ]\n",
      " [0.48403911 0.89718437 0.85185291 0.68322201 0.38902018 0.08532552]\n",
      " [0.37586165 0.50740866 0.50714196 0.75716676 0.40118428 0.38370946]\n",
      " [0.28456098 0.25939129 0.64711137 0.93887481 0.73714086 0.46265773]\n",
      " [0.92271287 0.63915666 0.73408435 0.60385352 0.46580891 0.19694889]]\n",
      "[0.00827351 0.79487149 0.21283142 0.36546789 0.82798731 0.45029485]\n",
      "[[0.91894422 0.8740251  0.75967906 0.48882828 0.8941684  0.30180454]\n",
      " [0.00827351 0.79487149 0.21283142 0.36546789 0.82798731 0.45029485]\n",
      " [0.21017927 0.55351596 0.24335909 0.42186638 0.00189585 0.0469336 ]\n",
      " [0.48403911 0.89718437 0.85185291 0.68322201 0.38902018 0.08532552]\n",
      " [0.37586165 0.50740866 0.50714196 0.75716676 0.40118428 0.38370946]\n",
      " [0.28456098 0.25939129 0.64711137 0.93887481 0.73714086 0.46265773]\n",
      " [0.92271287 0.63915666 0.73408435 0.60385352 0.46580891 0.19694889]]\n",
      "[0.8740251  0.79487149 0.55351596 0.89718437 0.50740866 0.25939129\n",
      " 0.63915666]\n"
     ]
    }
   ],
   "source": [
    "#3\n",
    "x1 = np.random.random((7,6))\n",
    "x2 = np.zeros((5,3))\n",
    "x3 = np.full((6,2,2),7)\n",
    "x4 = np.eye(5)\n",
    "\n",
    "print(x1)\n",
    "print(x1[1,2])\n",
    "\n",
    "print(x1)\n",
    "print(x1[1])\n",
    "\n",
    "print(x1)\n",
    "print(x1[:,1])"
   ]
  },
  {
   "cell_type": "code",
   "execution_count": 4,
   "metadata": {},
   "outputs": [
    {
     "name": "stdout",
     "output_type": "stream",
     "text": [
      "[4 5 2 8]\n",
      "[6 1 5 8]\n"
     ]
    }
   ],
   "source": [
    "#4\n",
    "A = np.random.randint(1,10,(4,5))\n",
    "# print(A)\n",
    "B = np.array(A[:,1:3])\n",
    "# print(B)\n",
    "C = np.array(A[1:3,1:5])\n",
    "# print(C)\n",
    "B1 = np.copy(B[:,0])\n",
    "C1 = np.copy(B[:,1])\n",
    "print(B1)\n",
    "print(C1)"
   ]
  },
  {
   "cell_type": "code",
   "execution_count": 5,
   "metadata": {},
   "outputs": [
    {
     "name": "stdout",
     "output_type": "stream",
     "text": [
      "[[ 2.   4.   6. ]\n",
      " [ 1.   2.   3. ]\n",
      " [-3.   0.1  8. ]\n",
      " [ 2.3  5.  11. ]]\n"
     ]
    }
   ],
   "source": [
    "#5\n",
    "#c,d\n",
    "AA = np.concatenate((c,d.T),axis = 0)\n",
    "print(AA)"
   ]
  },
  {
   "cell_type": "code",
   "execution_count": 6,
   "metadata": {},
   "outputs": [
    {
     "name": "stdout",
     "output_type": "stream",
     "text": [
      "(6,)\n",
      "(7, 6)\n"
     ]
    }
   ],
   "source": [
    "print(b.shape)\n",
    "print(x1.shape)"
   ]
  },
  {
   "cell_type": "code",
   "execution_count": 7,
   "metadata": {},
   "outputs": [
    {
     "name": "stdout",
     "output_type": "stream",
     "text": [
      "(1, 6)\n"
     ]
    }
   ],
   "source": [
    "b1 = np.expand_dims(b, axis=0)\n",
    "print(b1.shape)"
   ]
  },
  {
   "cell_type": "code",
   "execution_count": 8,
   "metadata": {},
   "outputs": [
    {
     "name": "stdout",
     "output_type": "stream",
     "text": [
      "[[3.00000000e+00 4.00000000e+00 2.00000000e+00 3.00000000e+00\n",
      "  1.00000000e+00 5.00000000e+00]\n",
      " [9.18944223e-01 8.74025099e-01 7.59679057e-01 4.88828277e-01\n",
      "  8.94168396e-01 3.01804538e-01]\n",
      " [8.27350812e-03 7.94871487e-01 2.12831423e-01 3.65467890e-01\n",
      "  8.27987308e-01 4.50294848e-01]\n",
      " [2.10179268e-01 5.53515964e-01 2.43359092e-01 4.21866379e-01\n",
      "  1.89584804e-03 4.69336049e-02]\n",
      " [4.84039106e-01 8.97184365e-01 8.51852914e-01 6.83222006e-01\n",
      "  3.89020180e-01 8.53255187e-02]\n",
      " [3.75861647e-01 5.07408662e-01 5.07141965e-01 7.57166764e-01\n",
      "  4.01184279e-01 3.83709464e-01]\n",
      " [2.84560979e-01 2.59391293e-01 6.47111367e-01 9.38874805e-01\n",
      "  7.37140857e-01 4.62657726e-01]\n",
      " [9.22712871e-01 6.39156660e-01 7.34084346e-01 6.03853517e-01\n",
      "  4.65808906e-01 1.96948885e-01]]\n"
     ]
    }
   ],
   "source": [
    "#b, x1\n",
    "BB = np.concatenate((b1,x1),axis = 0)\n",
    "print(BB)"
   ]
  },
  {
   "cell_type": "code",
   "execution_count": 9,
   "metadata": {},
   "outputs": [
    {
     "name": "stdout",
     "output_type": "stream",
     "text": [
      "(3, 2)\n",
      "(5, 3)\n"
     ]
    }
   ],
   "source": [
    "print(d.shape)\n",
    "print(x2.shape)"
   ]
  },
  {
   "cell_type": "code",
   "execution_count": 10,
   "metadata": {},
   "outputs": [
    {
     "name": "stdout",
     "output_type": "stream",
     "text": [
      "[[-3.   2.3  0.1]\n",
      " [ 5.   8.  11. ]\n",
      " [ 0.   0.   0. ]\n",
      " [ 0.   0.   0. ]\n",
      " [ 0.   0.   0. ]\n",
      " [ 0.   0.   0. ]\n",
      " [ 0.   0.   0. ]]\n"
     ]
    }
   ],
   "source": [
    "#d, x2\n",
    "d1 = np.reshape(d, (2, 3))\n",
    "CC = np.concatenate((d1,x2),axis = 0)\n",
    "print(CC)"
   ]
  },
  {
   "cell_type": "code",
   "execution_count": 11,
   "metadata": {},
   "outputs": [
    {
     "name": "stdout",
     "output_type": "stream",
     "text": [
      "[[ 3.   8.3]\n",
      " [ 6.1 11. ]\n",
      " [14.  17. ]]\n",
      "[[-11.   -5.7]\n",
      " [ -7.9  -3. ]\n",
      " [  0.    3. ]]\n",
      "[[-0.375   0.2875]\n",
      " [ 0.0125  0.625 ]\n",
      " [ 1.      1.375 ]]\n",
      "8\n",
      "[[4.97870684e-02 9.97418245e+00]\n",
      " [1.10517092e+00 1.48413159e+02]\n",
      " [2.98095799e+03 5.98741417e+04]]\n",
      "[[8.10000e+01 2.79841e+01]\n",
      " [1.00000e-04 6.25000e+02]\n",
      " [4.09600e+03 1.46410e+04]]\n",
      "[[        nan  0.83290912]\n",
      " [-2.30258509  1.60943791]\n",
      " [ 2.07944154  2.39789527]]\n"
     ]
    },
    {
     "name": "stderr",
     "output_type": "stream",
     "text": [
      "/anaconda3/lib/python3.7/site-packages/ipykernel_launcher.py:9: RuntimeWarning: invalid value encountered in log\n",
      "  if __name__ == '__main__':\n"
     ]
    }
   ],
   "source": [
    "#6\n",
    "#d\n",
    "print(d+6)\n",
    "print(d-8)\n",
    "print(d/8)\n",
    "print(abs(8))\n",
    "print(np.exp(d))\n",
    "print(np.power(d,4))\n",
    "print(np.log(d))"
   ]
  },
  {
   "cell_type": "code",
   "execution_count": 12,
   "metadata": {},
   "outputs": [
    {
     "name": "stdout",
     "output_type": "stream",
     "text": [
      "[[6.91894422 6.8740251  6.75967906 6.48882828 6.8941684  6.30180454]\n",
      " [6.00827351 6.79487149 6.21283142 6.36546789 6.82798731 6.45029485]\n",
      " [6.21017927 6.55351596 6.24335909 6.42186638 6.00189585 6.0469336 ]\n",
      " [6.48403911 6.89718437 6.85185291 6.68322201 6.38902018 6.08532552]\n",
      " [6.37586165 6.50740866 6.50714196 6.75716676 6.40118428 6.38370946]\n",
      " [6.28456098 6.25939129 6.64711137 6.93887481 6.73714086 6.46265773]\n",
      " [6.92271287 6.63915666 6.73408435 6.60385352 6.46580891 6.19694889]]\n",
      "[[-7.08105578 -7.1259749  -7.24032094 -7.51117172 -7.1058316  -7.69819546]\n",
      " [-7.99172649 -7.20512851 -7.78716858 -7.63453211 -7.17201269 -7.54970515]\n",
      " [-7.78982073 -7.44648404 -7.75664091 -7.57813362 -7.99810415 -7.9530664 ]\n",
      " [-7.51596089 -7.10281563 -7.14814709 -7.31677799 -7.61097982 -7.91467448]\n",
      " [-7.62413835 -7.49259134 -7.49285804 -7.24283324 -7.59881572 -7.61629054]\n",
      " [-7.71543902 -7.74060871 -7.35288863 -7.06112519 -7.26285914 -7.53734227]\n",
      " [-7.07728713 -7.36084334 -7.26591565 -7.39614648 -7.53419109 -7.80305111]]\n",
      "[[0.11486803 0.10925314 0.09495988 0.06110353 0.11177105 0.03772557]\n",
      " [0.00103419 0.09935894 0.02660393 0.04568349 0.10349841 0.05628686]\n",
      " [0.02627241 0.0691895  0.03041989 0.0527333  0.00023698 0.0058667 ]\n",
      " [0.06050489 0.11214805 0.10648161 0.08540275 0.04862752 0.01066569]\n",
      " [0.04698271 0.06342608 0.06339275 0.09464585 0.05014803 0.04796368]\n",
      " [0.03557012 0.03242391 0.08088892 0.11735935 0.09214261 0.05783222]\n",
      " [0.11533911 0.07989458 0.09176054 0.07548169 0.05822611 0.02461861]]\n",
      "8\n",
      "[[2.50664254 2.39653777 2.13759007 1.63040472 2.44530142 1.35229688]\n",
      " [1.00830783 2.21415643 1.23717607 1.44118817 2.28870764 1.56877467]\n",
      " [1.23389924 1.7393578  1.27552657 1.52480477 1.00189765 1.04805242]\n",
      " [1.6226151  2.45268751 2.34398604 1.98024783 1.47553433 1.08907152]\n",
      " [1.45624564 1.66098145 1.66053853 2.13222655 1.49359248 1.46771895]\n",
      " [1.32917836 1.29614088 1.91001552 2.55710256 2.08995149 1.58828962]\n",
      " [2.51610701 1.89488218 2.08357329 1.82915391 1.5933025  1.2176818 ]]\n",
      "[[7.13110132e-01 5.83573573e-01 3.33058572e-01 5.70985764e-02\n",
      "  6.39259608e-01 8.29665565e-03]\n",
      " [4.68553072e-09 3.99197373e-01 2.05183766e-03 1.78400843e-02\n",
      "  4.69996604e-01 4.11138278e-02]\n",
      " [1.95145932e-03 9.38686571e-02 3.50744045e-03 3.16737630e-02\n",
      "  1.29185597e-11 4.85216600e-06]\n",
      " [5.48936110e-02 6.47928058e-01 5.26572839e-01 2.17895060e-01\n",
      "  2.29027969e-02 5.30048669e-05]\n",
      " [1.99577717e-02 6.62874797e-02 6.61482251e-02 3.28674620e-01\n",
      "  2.59045245e-02 2.16775424e-02]\n",
      " [6.55694266e-03 4.52711555e-03 1.75354176e-01 7.77017392e-01\n",
      "  2.95258175e-01 4.58183322e-02]\n",
      " [7.24880329e-01 1.66889600e-01 2.90391468e-01 1.32961651e-01\n",
      "  4.70794249e-02 1.50457592e-03]]\n",
      "[[-0.08452985 -0.13464619 -0.27485923 -0.71574402 -0.11186116 -1.19797569]\n",
      " [-4.79469666 -0.22957483 -1.54725487 -1.00657686 -0.18875745 -0.79785269]\n",
      " [-1.55979445 -0.59146468 -1.41321718 -0.86306665 -6.26808903 -3.05902134]\n",
      " [-0.72558958 -0.1084939  -0.1603414  -0.38093543 -0.94412406 -2.46128171]\n",
      " [-0.97853416 -0.67843856 -0.67896431 -0.27817175 -0.91333441 -0.95786962]\n",
      " [-1.25680771 -1.34941757 -0.43523687 -0.06307314 -0.30497628 -0.77076775]\n",
      " [-0.08043718 -0.44760569 -0.30913134 -0.50442363 -0.7639798  -1.62481105]]\n"
     ]
    }
   ],
   "source": [
    "# x1\n",
    "print(x1+6)\n",
    "print(x1-8)\n",
    "print(x1/8)\n",
    "print(abs(8))\n",
    "print(np.exp(x1))\n",
    "print(np.power(x1,4))\n",
    "print(np.log(x1))"
   ]
  },
  {
   "cell_type": "code",
   "execution_count": 13,
   "metadata": {},
   "outputs": [
    {
     "name": "stdout",
     "output_type": "stream",
     "text": [
      "[[6. 6. 6.]\n",
      " [6. 6. 6.]\n",
      " [6. 6. 6.]\n",
      " [6. 6. 6.]\n",
      " [6. 6. 6.]]\n",
      "[[-8. -8. -8.]\n",
      " [-8. -8. -8.]\n",
      " [-8. -8. -8.]\n",
      " [-8. -8. -8.]\n",
      " [-8. -8. -8.]]\n",
      "[[0.11486803 0.10925314 0.09495988 0.06110353 0.11177105 0.03772557]\n",
      " [0.00103419 0.09935894 0.02660393 0.04568349 0.10349841 0.05628686]\n",
      " [0.02627241 0.0691895  0.03041989 0.0527333  0.00023698 0.0058667 ]\n",
      " [0.06050489 0.11214805 0.10648161 0.08540275 0.04862752 0.01066569]\n",
      " [0.04698271 0.06342608 0.06339275 0.09464585 0.05014803 0.04796368]\n",
      " [0.03557012 0.03242391 0.08088892 0.11735935 0.09214261 0.05783222]\n",
      " [0.11533911 0.07989458 0.09176054 0.07548169 0.05822611 0.02461861]]\n",
      "8\n",
      "[[1. 1. 1.]\n",
      " [1. 1. 1.]\n",
      " [1. 1. 1.]\n",
      " [1. 1. 1.]\n",
      " [1. 1. 1.]]\n",
      "[[0. 0. 0.]\n",
      " [0. 0. 0.]\n",
      " [0. 0. 0.]\n",
      " [0. 0. 0.]\n",
      " [0. 0. 0.]]\n",
      "[[-inf -inf -inf]\n",
      " [-inf -inf -inf]\n",
      " [-inf -inf -inf]\n",
      " [-inf -inf -inf]\n",
      " [-inf -inf -inf]]\n"
     ]
    },
    {
     "name": "stderr",
     "output_type": "stream",
     "text": [
      "/anaconda3/lib/python3.7/site-packages/ipykernel_launcher.py:8: RuntimeWarning: divide by zero encountered in log\n",
      "  \n"
     ]
    }
   ],
   "source": [
    "# x2\n",
    "print(x2+6)\n",
    "print(x2-8)\n",
    "print(x1/8)\n",
    "print(abs(8))\n",
    "print(np.exp(x2))\n",
    "print(np.power(x2,4))\n",
    "print(np.log(x2))"
   ]
  },
  {
   "cell_type": "code",
   "execution_count": 14,
   "metadata": {},
   "outputs": [
    {
     "name": "stdout",
     "output_type": "stream",
     "text": [
      "[[1. 1. 1.]\n",
      " [4. 4. 4.]\n",
      " [3. 3. 3.]\n",
      " [5. 5. 5.]\n",
      " [3. 3. 3.]]\n",
      "[[1. 1. 1.]\n",
      " [4. 4. 4.]\n",
      " [3. 3. 3.]\n",
      " [5. 5. 5.]\n",
      " [3. 3. 3.]]\n",
      "[[0. 0. 0.]\n",
      " [0. 0. 0.]\n",
      " [0. 0. 0.]\n",
      " [0. 0. 0.]\n",
      " [0. 0. 0.]]\n"
     ]
    }
   ],
   "source": [
    "#a + x2\n",
    "a2 = np.expand_dims(a, axis=1)\n",
    "print(a2+x2)\n",
    "#a - x2\n",
    "print(a2-x2)\n",
    "#a * x2\n",
    "print(a2*x2)"
   ]
  },
  {
   "cell_type": "code",
   "execution_count": 15,
   "metadata": {},
   "outputs": [
    {
     "name": "stdout",
     "output_type": "stream",
     "text": [
      "(2, 3)\n",
      "(3,)\n",
      "[[1 2 3]\n",
      " [1 2 3]]\n"
     ]
    }
   ],
   "source": [
    "#7: all are correct\n",
    "test = np.array([[1,1,1],[1,1,1]])\n",
    "print(test.shape)\n",
    "test1 = np.array([0,1,2])\n",
    "print(test1.shape)\n",
    "print(test + test1)"
   ]
  },
  {
   "cell_type": "code",
   "execution_count": 16,
   "metadata": {},
   "outputs": [
    {
     "name": "stdout",
     "output_type": "stream",
     "text": [
      "[[0]\n",
      " [2]\n",
      " [4]]\n"
     ]
    }
   ],
   "source": [
    "test2 = np.array([[0],[1],[2]])\n",
    "test3 = np.expand_dims(test1, axis=1)\n",
    "print(test2+test3)"
   ]
  },
  {
   "cell_type": "code",
   "execution_count": 17,
   "metadata": {},
   "outputs": [
    {
     "name": "stdout",
     "output_type": "stream",
     "text": [
      "[189 170 189 163 183 171 185 168 173 183 173 173 175 178 183 193 178 173\n",
      " 174 183 183 168 170 178 182 180 183 178 182 188 175 179 183 193 182 183\n",
      " 177 185 188 188 182 185]\n"
     ]
    }
   ],
   "source": [
    "#8\n",
    "import pandas as pd\n",
    "data = pd.read_csv('president_heights.csv') \n",
    "heights = np.array(data['height(cm)']) \n",
    "print(heights)"
   ]
  },
  {
   "cell_type": "code",
   "execution_count": 18,
   "metadata": {},
   "outputs": [
    {
     "name": "stdout",
     "output_type": "stream",
     "text": [
      "           order  height(cm)\n",
      "count  42.000000   42.000000\n",
      "mean   22.476190  179.738095\n",
      "std    13.152461    7.015869\n",
      "min     1.000000  163.000000\n",
      "25%    11.250000  174.250000\n",
      "50%    22.000000  182.000000\n",
      "75%    33.750000  183.000000\n",
      "max    44.000000  193.000000\n"
     ]
    }
   ],
   "source": [
    "print(data.describe())"
   ]
  },
  {
   "cell_type": "code",
   "execution_count": 19,
   "metadata": {},
   "outputs": [
    {
     "name": "stdout",
     "output_type": "stream",
     "text": [
      "182.0\n"
     ]
    }
   ],
   "source": [
    "print(np.median(heights))"
   ]
  },
  {
   "cell_type": "code",
   "execution_count": 20,
   "metadata": {},
   "outputs": [
    {
     "data": {
      "text/plain": [
       "<Figure size 640x480 with 1 Axes>"
      ]
     },
     "metadata": {},
     "output_type": "display_data"
    }
   ],
   "source": [
    "import matplotlib.pyplot as plt \n",
    "plt.hist(heights,10,color='red') \n",
    "plt.title('plot description') \n",
    "plt.xlabel('description of the x axis') \n",
    "plt.ylabel('description of the y axis') \n",
    "plt.show()"
   ]
  },
  {
   "cell_type": "code",
   "execution_count": 22,
   "metadata": {},
   "outputs": [
    {
     "name": "stdout",
     "output_type": "stream",
     "text": [
      "   X   B   C  D   E\n",
      "0  1  12   6  5  -4\n",
      "1  2  11  -4  7  -2\n",
      "2  3  21   8 -2   9\n",
      "3  4   4  12  1  10\n"
     ]
    }
   ],
   "source": [
    "#9\n",
    "import pandas as pd\n",
    "data1 = pd.read_csv('simple_dataset.csv') \n",
    "print(data1)"
   ]
  },
  {
   "cell_type": "code",
   "execution_count": 24,
   "metadata": {},
   "outputs": [
    {
     "name": "stdout",
     "output_type": "stream",
     "text": [
      "[[ 1 12  6  5 -4]\n",
      " [ 2 11 -4  7 -2]\n",
      " [ 3 21  8 -2  9]\n",
      " [ 4  4 12  1 10]]\n"
     ]
    }
   ],
   "source": [
    "df = np.asarray(data1)\n",
    "print(df)"
   ]
  },
  {
   "cell_type": "code",
   "execution_count": 40,
   "metadata": {},
   "outputs": [
    {
     "name": "stdout",
     "output_type": "stream",
     "text": [
      "[ 2 11 -4  7 -2]\n",
      "   X   B  C  D  E\n",
      "1  2  11 -4  7 -2\n"
     ]
    }
   ],
   "source": [
    "#S1\n",
    "S1 = df[1,0:]\n",
    "S1_1 = pd.DataFrame(data1, index=[1])\n",
    "print(S1)\n",
    "print(S1_1)"
   ]
  },
  {
   "cell_type": "code",
   "execution_count": 42,
   "metadata": {},
   "outputs": [
    {
     "name": "stdout",
     "output_type": "stream",
     "text": [
      "[[ 2 11 -4  7 -2]\n",
      " [ 3 21  8 -2  9]]\n",
      "   X   B  C  D  E\n",
      "1  2  11 -4  7 -2\n",
      "2  3  21  8 -2  9\n"
     ]
    }
   ],
   "source": [
    "#S2\n",
    "S2 = df[1:3,0:]\n",
    "S2_1 = pd.DataFrame(data1, index=[1,2])\n",
    "print(S2)\n",
    "print(S2_1)"
   ]
  },
  {
   "cell_type": "code",
   "execution_count": 44,
   "metadata": {},
   "outputs": [
    {
     "name": "stdout",
     "output_type": "stream",
     "text": [
      "[[21  8 -2]\n",
      " [ 4 12  1]]\n",
      "    B   C  D\n",
      "2  21   8 -2\n",
      "3   4  12  1\n"
     ]
    }
   ],
   "source": [
    "#S3\n",
    "S3 = df[2:,1:4]\n",
    "S3_1 = pd.DataFrame(data1, index=[2,3], columns=['B','C','D'])\n",
    "print(S3)\n",
    "print(S3_1)"
   ]
  },
  {
   "cell_type": "code",
   "execution_count": 38,
   "metadata": {},
   "outputs": [
    {
     "name": "stdout",
     "output_type": "stream",
     "text": [
      "    B  D\n",
      "0  12  5\n",
      "1  11  7\n",
      "2  21 -2\n",
      "3   4  1\n"
     ]
    }
   ],
   "source": [
    "#S4\n",
    "S4 = pd.DataFrame(data1, columns=['B', 'D'])\n",
    "print(S4)"
   ]
  },
  {
   "cell_type": "code",
   "execution_count": 52,
   "metadata": {},
   "outputs": [
    {
     "data": {
      "image/png": "[encoded data removed]",
      "text/plain": [
       "<Figure size 432x288 with 1 Axes>"
      ]
     },
     "metadata": {
      "needs_background": "light"
     },
     "output_type": "display_data"
    }
   ],
   "source": [
    "#10\n",
    "n = 1000\n",
    "X = np.random.normal(0, 1, n)\n",
    "Y = np.random.normal(0, 1, n)\n",
    "\n",
    "plt.scatter(X, Y)\n",
    "\n",
    "plt.xlim(0, 2)\n",
    "plt.ylim(0, 1.4)\n",
    "\n",
    "plt.show()"
   ]
  },
  {
   "cell_type": "code",
   "execution_count": null,
   "metadata": {},
   "outputs": [],
   "source": []
  }
 ],
 "metadata": {
  "kernelspec": {
   "display_name": "Python 3",
   "language": "python",
   "name": "python3"
  },
  "language_info": {
   "codemirror_mode": {
    "name": "ipython",
    "version": 3
   },
   "file_extension": ".py",
   "mimetype": "text/x-python",
   "name": "python",
   "nbconvert_exporter": "python",
   "pygments_lexer": "ipython3",
   "version": "3.7.0"
  }
 },
 "nbformat": 4,
 "nbformat_minor": 2
}
