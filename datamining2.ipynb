{
 "cells": [
  {
   "cell_type": "code",
   "execution_count": 1,
   "metadata": {},
   "outputs": [],
   "source": [
    "import numpy as np \n",
    "\n",
    "#1\n",
    "a = np.array([1,4,3,5,3])\n",
    "b = np.array([3.14, 4,2,3,1,5], dtype = np.int32)\n",
    "c = np.array([[2,4,6],[1,2,3]])\n",
    "d = np.array([[-3.0,2.3],[0.1,5.0],[8.0,11.0]])\n",
    "e = np.array(([[2,4],[1,2],[8,9]],[[7,6],[-3,4],[0,8]]))"
   ]
  },
  {
   "cell_type": "code",
   "execution_count": 2,
   "metadata": {},
   "outputs": [
    {
     "name": "stdout",
     "output_type": "stream",
     "text": [
      "2\n",
      "(3, 2)\n",
      "6\n",
      "float64\n",
      "8\n",
      "48\n"
     ]
    }
   ],
   "source": [
    "#2 tried for a, b, c, d\n",
    "print(d.ndim)\n",
    "print(d.shape)\n",
    "print(d.size)\n",
    "print(d.dtype)\n",
    "print(d.itemsize)\n",
    "print(d.nbytes)"
   ]
  },
  {
   "cell_type": "code",
   "execution_count": 3,
   "metadata": {},
   "outputs": [
    {
     "name": "stdout",
     "output_type": "stream",
     "text": [
      "[[0.06904305 0.30014428 0.37513881 0.46250773 0.01873912 0.22723045]\n",
      " [0.52488446 0.44188044 0.99367609 0.68130754 0.19316278 0.41505262]\n",
      " [0.01062986 0.02991439 0.37373791 0.56239893 0.2181972  0.67679083]\n",
      " [0.94084445 0.46356786 0.69404842 0.64502823 0.67704619 0.4850329 ]\n",
      " [0.84091883 0.06212401 0.59451797 0.11839416 0.95819547 0.48422115]\n",
      " [0.22585369 0.27803298 0.66801303 0.11333229 0.4678222  0.30734286]\n",
      " [0.72554122 0.3381528  0.34191786 0.79776453 0.02360059 0.07588031]]\n",
      "0.9936760905641354\n",
      "[[0.06904305 0.30014428 0.37513881 0.46250773 0.01873912 0.22723045]\n",
      " [0.52488446 0.44188044 0.99367609 0.68130754 0.19316278 0.41505262]\n",
      " [0.01062986 0.02991439 0.37373791 0.56239893 0.2181972  0.67679083]\n",
      " [0.94084445 0.46356786 0.69404842 0.64502823 0.67704619 0.4850329 ]\n",
      " [0.84091883 0.06212401 0.59451797 0.11839416 0.95819547 0.48422115]\n",
      " [0.22585369 0.27803298 0.66801303 0.11333229 0.4678222  0.30734286]\n",
      " [0.72554122 0.3381528  0.34191786 0.79776453 0.02360059 0.07588031]]\n",
      "[0.52488446 0.44188044 0.99367609 0.68130754 0.19316278 0.41505262]\n",
      "[[0.06904305 0.30014428 0.37513881 0.46250773 0.01873912 0.22723045]\n",
      " [0.52488446 0.44188044 0.99367609 0.68130754 0.19316278 0.41505262]\n",
      " [0.01062986 0.02991439 0.37373791 0.56239893 0.2181972  0.67679083]\n",
      " [0.94084445 0.46356786 0.69404842 0.64502823 0.67704619 0.4850329 ]\n",
      " [0.84091883 0.06212401 0.59451797 0.11839416 0.95819547 0.48422115]\n",
      " [0.22585369 0.27803298 0.66801303 0.11333229 0.4678222  0.30734286]\n",
      " [0.72554122 0.3381528  0.34191786 0.79776453 0.02360059 0.07588031]]\n",
      "[0.30014428 0.44188044 0.02991439 0.46356786 0.06212401 0.27803298\n",
      " 0.3381528 ]\n"
     ]
    }
   ],
   "source": [
    "#3\n",
    "x1 = np.random.random((7,6))\n",
    "x2 = np.zeros((5,3))\n",
    "x3 = np.full((6,2,2),7)\n",
    "x4 = np.eye(5)\n",
    "\n",
    "print(x1)\n",
    "print(x1[1,2])\n",
    "\n",
    "print(x1)\n",
    "print(x1[1])\n",
    "\n",
    "print(x1)\n",
    "print(x1[:,1])"
   ]
  },
  {
   "cell_type": "code",
   "execution_count": 4,
   "metadata": {},
   "outputs": [
    {
     "name": "stdout",
     "output_type": "stream",
     "text": [
      "[9 9 4 9]\n",
      "[3 2 4 8]\n"
     ]
    }
   ],
   "source": [
    "#4\n",
    "A = np.random.randint(1,10,(4,5))\n",
    "# print(A)\n",
    "B = np.array(A[:,1:3])\n",
    "# print(B)\n",
    "C = np.array(A[1:3,1:5])\n",
    "# print(C)\n",
    "B1 = np.copy(B[:,0])\n",
    "C1 = np.copy(B[:,1])\n",
    "print(B1)\n",
    "print(C1)"
   ]
  },
  {
   "cell_type": "code",
   "execution_count": 5,
   "metadata": {},
   "outputs": [
    {
     "name": "stdout",
     "output_type": "stream",
     "text": [
      "[[ 2.   4.   6. ]\n",
      " [ 1.   2.   3. ]\n",
      " [-3.   0.1  8. ]\n",
      " [ 2.3  5.  11. ]]\n"
     ]
    }
   ],
   "source": [
    "#5\n",
    "#c,d\n",
    "AA = np.concatenate((c,d.T),axis = 0)\n",
    "print(AA)"
   ]
  },
  {
   "cell_type": "code",
   "execution_count": 6,
   "metadata": {},
   "outputs": [
    {
     "name": "stdout",
     "output_type": "stream",
     "text": [
      "(6,)\n",
      "(7, 6)\n"
     ]
    }
   ],
   "source": [
    "print(b.shape)\n",
    "print(x1.shape)"
   ]
  },
  {
   "cell_type": "code",
   "execution_count": 7,
   "metadata": {},
   "outputs": [
    {
     "name": "stdout",
     "output_type": "stream",
     "text": [
      "(1, 6)\n"
     ]
    }
   ],
   "source": [
    "b1 = np.expand_dims(b, axis=0)\n",
    "print(b1.shape)"
   ]
  },
  {
   "cell_type": "code",
   "execution_count": 8,
   "metadata": {},
   "outputs": [
    {
     "name": "stdout",
     "output_type": "stream",
     "text": [
      "[[3.         4.         2.         3.         1.         5.        ]\n",
      " [0.06904305 0.30014428 0.37513881 0.46250773 0.01873912 0.22723045]\n",
      " [0.52488446 0.44188044 0.99367609 0.68130754 0.19316278 0.41505262]\n",
      " [0.01062986 0.02991439 0.37373791 0.56239893 0.2181972  0.67679083]\n",
      " [0.94084445 0.46356786 0.69404842 0.64502823 0.67704619 0.4850329 ]\n",
      " [0.84091883 0.06212401 0.59451797 0.11839416 0.95819547 0.48422115]\n",
      " [0.22585369 0.27803298 0.66801303 0.11333229 0.4678222  0.30734286]\n",
      " [0.72554122 0.3381528  0.34191786 0.79776453 0.02360059 0.07588031]]\n"
     ]
    }
   ],
   "source": [
    "#b, x1\n",
    "BB = np.concatenate((b1,x1),axis = 0)\n",
    "print(BB)"
   ]
  },
  {
   "cell_type": "code",
   "execution_count": 9,
   "metadata": {},
   "outputs": [
    {
     "name": "stdout",
     "output_type": "stream",
     "text": [
      "(3, 2)\n",
      "(5, 3)\n"
     ]
    }
   ],
   "source": [
    "print(d.shape)\n",
    "print(x2.shape)"
   ]
  },
  {
   "cell_type": "code",
   "execution_count": 10,
   "metadata": {},
   "outputs": [
    {
     "name": "stdout",
     "output_type": "stream",
     "text": [
      "[[-3.   2.3  0.1]\n",
      " [ 5.   8.  11. ]\n",
      " [ 0.   0.   0. ]\n",
      " [ 0.   0.   0. ]\n",
      " [ 0.   0.   0. ]\n",
      " [ 0.   0.   0. ]\n",
      " [ 0.   0.   0. ]]\n"
     ]
    }
   ],
   "source": [
    "#d, x2\n",
    "d1 = np.reshape(d, (2, 3))\n",
    "CC = np.concatenate((d1,x2),axis = 0)\n",
    "print(CC)"
   ]
  },
  {
   "cell_type": "code",
   "execution_count": 11,
   "metadata": {},
   "outputs": [
    {
     "name": "stdout",
     "output_type": "stream",
     "text": [
      "[[ 3.   8.3]\n",
      " [ 6.1 11. ]\n",
      " [14.  17. ]]\n",
      "[[-11.   -5.7]\n",
      " [ -7.9  -3. ]\n",
      " [  0.    3. ]]\n",
      "[[-0.375   0.2875]\n",
      " [ 0.0125  0.625 ]\n",
      " [ 1.      1.375 ]]\n",
      "8\n",
      "[[4.97870684e-02 9.97418245e+00]\n",
      " [1.10517092e+00 1.48413159e+02]\n",
      " [2.98095799e+03 5.98741417e+04]]\n",
      "[[8.10000e+01 2.79841e+01]\n",
      " [1.00000e-04 6.25000e+02]\n",
      " [4.09600e+03 1.46410e+04]]\n",
      "[[        nan  0.83290912]\n",
      " [-2.30258509  1.60943791]\n",
      " [ 2.07944154  2.39789527]]\n"
     ]
    },
    {
     "name": "stderr",
     "output_type": "stream",
     "text": [
      "/anaconda3/lib/python3.7/site-packages/ipykernel_launcher.py:9: RuntimeWarning: invalid value encountered in log\n",
      "  if __name__ == '__main__':\n"
     ]
    }
   ],
   "source": [
    "#6\n",
    "#d\n",
    "print(d+6)\n",
    "print(d-8)\n",
    "print(d/8)\n",
    "print(abs(8))\n",
    "print(np.exp(d))\n",
    "print(np.power(d,4))\n",
    "print(np.log(d))"
   ]
  },
  {
   "cell_type": "code",
   "execution_count": 12,
   "metadata": {},
   "outputs": [
    {
     "name": "stdout",
     "output_type": "stream",
     "text": [
      "[[6.06904305 6.30014428 6.37513881 6.46250773 6.01873912 6.22723045]\n",
      " [6.52488446 6.44188044 6.99367609 6.68130754 6.19316278 6.41505262]\n",
      " [6.01062986 6.02991439 6.37373791 6.56239893 6.2181972  6.67679083]\n",
      " [6.94084445 6.46356786 6.69404842 6.64502823 6.67704619 6.4850329 ]\n",
      " [6.84091883 6.06212401 6.59451797 6.11839416 6.95819547 6.48422115]\n",
      " [6.22585369 6.27803298 6.66801303 6.11333229 6.4678222  6.30734286]\n",
      " [6.72554122 6.3381528  6.34191786 6.79776453 6.02360059 6.07588031]]\n",
      "[[-7.93095695 -7.69985572 -7.62486119 -7.53749227 -7.98126088 -7.77276955]\n",
      " [-7.47511554 -7.55811956 -7.00632391 -7.31869246 -7.80683722 -7.58494738]\n",
      " [-7.98937014 -7.97008561 -7.62626209 -7.43760107 -7.7818028  -7.32320917]\n",
      " [-7.05915555 -7.53643214 -7.30595158 -7.35497177 -7.32295381 -7.5149671 ]\n",
      " [-7.15908117 -7.93787599 -7.40548203 -7.88160584 -7.04180453 -7.51577885]\n",
      " [-7.77414631 -7.72196702 -7.33198697 -7.88666771 -7.5321778  -7.69265714]\n",
      " [-7.27445878 -7.6618472  -7.65808214 -7.20223547 -7.97639941 -7.92411969]]\n",
      "[[0.00863038 0.03751804 0.04689235 0.05781347 0.00234239 0.02840381]\n",
      " [0.06561056 0.05523505 0.12420951 0.08516344 0.02414535 0.05188158]\n",
      " [0.00132873 0.0037393  0.04671724 0.07029987 0.02727465 0.08459885]\n",
      " [0.11760556 0.05794598 0.08675605 0.08062853 0.08463077 0.06062911]\n",
      " [0.10511485 0.0077655  0.07431475 0.01479927 0.11977443 0.06052764]\n",
      " [0.02823171 0.03475412 0.08350163 0.01416654 0.05847778 0.03841786]\n",
      " [0.09069265 0.0422691  0.04273973 0.09972057 0.00295007 0.00948504]]\n",
      "8\n",
      "[[1.07148233 1.35005358 1.4551934  1.5880514  1.01891579 1.25511908]\n",
      " [1.69026354 1.55562973 2.7011459  1.97646033 1.21308025 1.51445043]\n",
      " [1.01068655 1.03036632 1.45315624 1.75487728 1.24383233 1.96755338]\n",
      " [2.56214411 1.58973583 2.00180329 1.90604084 1.96805587 1.62422844]\n",
      " [2.3184963  1.0640943  1.81215723 1.12568772 2.60698784 1.62291051]\n",
      " [1.25339227 1.32052975 1.95035816 1.12000404 1.59651353 1.35980711]\n",
      " [2.06584888 1.40235476 1.40764466 2.22057136 1.02388128 1.07883344]]\n",
      "[[2.27237426e-05 8.11559385e-03 1.98046875e-02 4.57589417e-02\n",
      "  1.23309447e-07 2.66603678e-03]\n",
      " [7.59022839e-02 3.81258115e-02 9.74943303e-01 2.15463033e-01\n",
      "  1.39217494e-03 2.96764983e-02]\n",
      " [1.27676032e-08 8.00793358e-07 1.95105089e-02 1.00040982e-01\n",
      "  2.26671381e-03 2.09805984e-01]\n",
      " [7.83558298e-01 4.61799288e-02 2.32037983e-01 1.73107104e-01\n",
      "  2.10122801e-01 5.53458148e-02]\n",
      " [5.00053311e-01 1.48949126e-05 1.24928048e-01 1.96481227e-04\n",
      "  8.42978412e-01 5.49762380e-02]\n",
      " [2.60200893e-03 5.97565141e-03 1.99131389e-01 1.64973680e-04\n",
      "  4.78986558e-02 8.92262211e-03]\n",
      " [2.77107560e-01 1.30753085e-02 1.36674385e-02 4.05040912e-01\n",
      "  3.10235210e-07 3.31525140e-05]]\n",
      "[[-2.67302506 -1.20349198 -0.98045916 -0.77109201 -3.9771422  -1.48179057]\n",
      " [-0.64457713 -0.81671594 -0.00634399 -0.38374148 -1.64422201 -0.87934996]\n",
      " [-4.54408872 -3.50941573 -0.98420051 -0.57554384 -1.52235604 -0.39039301]\n",
      " [-0.06097745 -0.7688025  -0.36521355 -0.43846119 -0.39001579 -0.72353856]\n",
      " [-0.17326014 -2.77862271 -0.52000433 -2.13373592 -0.04270348 -0.72521356]\n",
      " [-1.48786787 -1.28001554 -0.40344761 -2.17743115 -0.75966696 -1.17979135]\n",
      " [-0.32083739 -1.08425742 -1.07318476 -0.2259418  -3.74648377 -2.578598  ]]\n"
     ]
    }
   ],
   "source": [
    "# x1\n",
    "print(x1+6)\n",
    "print(x1-8)\n",
    "print(x1/8)\n",
    "print(abs(8))\n",
    "print(np.exp(x1))\n",
    "print(np.power(x1,4))\n",
    "print(np.log(x1))"
   ]
  },
  {
   "cell_type": "code",
   "execution_count": 13,
   "metadata": {},
   "outputs": [
    {
     "name": "stdout",
     "output_type": "stream",
     "text": [
      "[[6. 6. 6.]\n",
      " [6. 6. 6.]\n",
      " [6. 6. 6.]\n",
      " [6. 6. 6.]\n",
      " [6. 6. 6.]]\n",
      "[[-8. -8. -8.]\n",
      " [-8. -8. -8.]\n",
      " [-8. -8. -8.]\n",
      " [-8. -8. -8.]\n",
      " [-8. -8. -8.]]\n",
      "[[0.00863038 0.03751804 0.04689235 0.05781347 0.00234239 0.02840381]\n",
      " [0.06561056 0.05523505 0.12420951 0.08516344 0.02414535 0.05188158]\n",
      " [0.00132873 0.0037393  0.04671724 0.07029987 0.02727465 0.08459885]\n",
      " [0.11760556 0.05794598 0.08675605 0.08062853 0.08463077 0.06062911]\n",
      " [0.10511485 0.0077655  0.07431475 0.01479927 0.11977443 0.06052764]\n",
      " [0.02823171 0.03475412 0.08350163 0.01416654 0.05847778 0.03841786]\n",
      " [0.09069265 0.0422691  0.04273973 0.09972057 0.00295007 0.00948504]]\n",
      "8\n",
      "[[1. 1. 1.]\n",
      " [1. 1. 1.]\n",
      " [1. 1. 1.]\n",
      " [1. 1. 1.]\n",
      " [1. 1. 1.]]\n",
      "[[0. 0. 0.]\n",
      " [0. 0. 0.]\n",
      " [0. 0. 0.]\n",
      " [0. 0. 0.]\n",
      " [0. 0. 0.]]\n",
      "[[-inf -inf -inf]\n",
      " [-inf -inf -inf]\n",
      " [-inf -inf -inf]\n",
      " [-inf -inf -inf]\n",
      " [-inf -inf -inf]]\n"
     ]
    },
    {
     "name": "stderr",
     "output_type": "stream",
     "text": [
      "/anaconda3/lib/python3.7/site-packages/ipykernel_launcher.py:8: RuntimeWarning: divide by zero encountered in log\n",
      "  \n"
     ]
    }
   ],
   "source": [
    "# x2\n",
    "print(x2+6)\n",
    "print(x2-8)\n",
    "print(x1/8)\n",
    "print(abs(8))\n",
    "print(np.exp(x2))\n",
    "print(np.power(x2,4))\n",
    "print(np.log(x2))"
   ]
  },
  {
   "cell_type": "code",
   "execution_count": 14,
   "metadata": {},
   "outputs": [
    {
     "name": "stdout",
     "output_type": "stream",
     "text": [
      "[[1. 1. 1.]\n",
      " [4. 4. 4.]\n",
      " [3. 3. 3.]\n",
      " [5. 5. 5.]\n",
      " [3. 3. 3.]]\n",
      "[[1. 1. 1.]\n",
      " [4. 4. 4.]\n",
      " [3. 3. 3.]\n",
      " [5. 5. 5.]\n",
      " [3. 3. 3.]]\n",
      "[[0. 0. 0.]\n",
      " [0. 0. 0.]\n",
      " [0. 0. 0.]\n",
      " [0. 0. 0.]\n",
      " [0. 0. 0.]]\n"
     ]
    }
   ],
   "source": [
    "#a + x2\n",
    "a2 = np.expand_dims(a, axis=1)\n",
    "print(a2+x2)\n",
    "#a - x2\n",
    "print(a2-x2)\n",
    "#a * x2\n",
    "print(a2*x2)"
   ]
  },
  {
   "cell_type": "code",
   "execution_count": 15,
   "metadata": {},
   "outputs": [
    {
     "name": "stdout",
     "output_type": "stream",
     "text": [
      "(2, 3)\n",
      "(3,)\n",
      "[[1 2 3]\n",
      " [1 2 3]]\n"
     ]
    }
   ],
   "source": [
    "#7: all are correct\n",
    "test = np.array([[1,1,1],[1,1,1]])\n",
    "print(test.shape)\n",
    "test1 = np.array([0,1,2])\n",
    "print(test1.shape)\n",
    "print(test + test1)"
   ]
  },
  {
   "cell_type": "code",
   "execution_count": 16,
   "metadata": {},
   "outputs": [
    {
     "name": "stdout",
     "output_type": "stream",
     "text": [
      "[[0]\n",
      " [2]\n",
      " [4]]\n"
     ]
    }
   ],
   "source": [
    "test2 = np.array([[0],[1],[2]])\n",
    "test3 = np.expand_dims(test1, axis=1)\n",
    "print(test2+test3)"
   ]
  },
  {
   "cell_type": "code",
   "execution_count": 17,
   "metadata": {},
   "outputs": [
    {
     "name": "stdout",
     "output_type": "stream",
     "text": [
      "[189 170 189 163 183 171 185 168 173 183 173 173 175 178 183 193 178 173\n",
      " 174 183 183 168 170 178 182 180 183 178 182 188 175 179 183 193 182 183\n",
      " 177 185 188 188 182 185]\n"
     ]
    }
   ],
   "source": [
    "#8\n",
    "import pandas as pd\n",
    "data = pd.read_csv('president_heights.csv') \n",
    "heights = np.array(data['height(cm)']) \n",
    "print(heights)"
   ]
  },
  {
   "cell_type": "code",
   "execution_count": 18,
   "metadata": {},
   "outputs": [
    {
     "name": "stdout",
     "output_type": "stream",
     "text": [
      "           order  height(cm)\n",
      "count  42.000000   42.000000\n",
      "mean   22.476190  179.738095\n",
      "std    13.152461    7.015869\n",
      "min     1.000000  163.000000\n",
      "25%    11.250000  174.250000\n",
      "50%    22.000000  182.000000\n",
      "75%    33.750000  183.000000\n",
      "max    44.000000  193.000000\n"
     ]
    }
   ],
   "source": [
    "print(data.describe())"
   ]
  },
  {
   "cell_type": "code",
   "execution_count": 19,
   "metadata": {},
   "outputs": [
    {
     "name": "stdout",
     "output_type": "stream",
     "text": [
      "182.0\n"
     ]
    }
   ],
   "source": [
    "print(np.median(heights))"
   ]
  },
  {
   "cell_type": "code",
   "execution_count": 20,
   "metadata": {},
   "outputs": [
    {
     "data": {
      "text/plain": [
       "<Figure size 640x480 with 1 Axes>"
      ]
     },
     "metadata": {},
     "output_type": "display_data"
    }
   ],
   "source": [
    "import matplotlib.pyplot as plt \n",
    "plt.hist(heights,10,color='red') \n",
    "plt.title('plot description') \n",
    "plt.xlabel('description of the x axis') \n",
    "plt.ylabel('description of the y axis') \n",
    "plt.show()"
   ]
  },
  {
   "cell_type": "code",
   "execution_count": 21,
   "metadata": {},
   "outputs": [
    {
     "name": "stdout",
     "output_type": "stream",
     "text": [
      "   X   B   C  D   E\n",
      "0  1  12   6  5  -4\n",
      "1  2  11  -4  7  -2\n",
      "2  3  21   8 -2   9\n",
      "3  4   4  12  1  10\n"
     ]
    }
   ],
   "source": [
    "#9\n",
    "import pandas as pd\n",
    "data1 = pd.read_csv('simple_dataset.csv') \n",
    "print(data1)"
   ]
  },
  {
   "cell_type": "code",
   "execution_count": 22,
   "metadata": {},
   "outputs": [
    {
     "name": "stdout",
     "output_type": "stream",
     "text": [
      "[[ 1 12  6  5 -4]\n",
      " [ 2 11 -4  7 -2]\n",
      " [ 3 21  8 -2  9]\n",
      " [ 4  4 12  1 10]]\n"
     ]
    }
   ],
   "source": [
    "df = np.asarray(data1)\n",
    "print(df)"
   ]
  },
  {
   "cell_type": "code",
   "execution_count": 23,
   "metadata": {},
   "outputs": [
    {
     "name": "stdout",
     "output_type": "stream",
     "text": [
      "[ 2 11 -4  7 -2]\n",
      "   X   B  C  D  E\n",
      "1  2  11 -4  7 -2\n"
     ]
    }
   ],
   "source": [
    "#S1\n",
    "S1 = df[1,0:]\n",
    "S1_1 = pd.DataFrame(data1, index=[1])\n",
    "print(S1)\n",
    "print(S1_1)"
   ]
  },
  {
   "cell_type": "code",
   "execution_count": 24,
   "metadata": {},
   "outputs": [
    {
     "name": "stdout",
     "output_type": "stream",
     "text": [
      "[[ 2 11 -4  7 -2]\n",
      " [ 3 21  8 -2  9]]\n",
      "   X   B  C  D  E\n",
      "1  2  11 -4  7 -2\n",
      "2  3  21  8 -2  9\n"
     ]
    }
   ],
   "source": [
    "#S2\n",
    "S2 = df[1:3,0:]\n",
    "S2_1 = pd.DataFrame(data1, index=[1,2])\n",
    "print(S2)\n",
    "print(S2_1)"
   ]
  },
  {
   "cell_type": "code",
   "execution_count": 25,
   "metadata": {},
   "outputs": [
    {
     "name": "stdout",
     "output_type": "stream",
     "text": [
      "[[21  8 -2]\n",
      " [ 4 12  1]]\n",
      "    B   C  D\n",
      "2  21   8 -2\n",
      "3   4  12  1\n"
     ]
    }
   ],
   "source": [
    "#S3\n",
    "S3 = df[2:,1:4]\n",
    "S3_1 = pd.DataFrame(data1, index=[2,3], columns=['B','C','D'])\n",
    "print(S3)\n",
    "print(S3_1)"
   ]
  },
  {
   "cell_type": "code",
   "execution_count": 26,
   "metadata": {},
   "outputs": [
    {
     "name": "stdout",
     "output_type": "stream",
     "text": [
      "    B  D\n",
      "0  12  5\n",
      "1  11  7\n",
      "2  21 -2\n",
      "3   4  1\n"
     ]
    }
   ],
   "source": [
    "#S4\n",
    "S4 = pd.DataFrame(data1, columns=['B', 'D'])\n",
    "print(S4)"
   ]
  },
  {
   "cell_type": "code",
   "execution_count": 37,
   "metadata": {},
   "outputs": [
    {
     "data": {
      "image/png": "[encoded data removed]",
      "text/plain": [
       "<Figure size 432x288 with 1 Axes>"
      ]
     },
     "metadata": {
      "needs_background": "light"
     },
     "output_type": "display_data"
    }
   ],
   "source": [
    "#10\n",
    "import numpy as np\n",
    "import matplotlib.pyplot as plt\n",
    "linalg = np.linalg\n",
    "\n",
    "N = 1000\n",
    "mean = [1,1]\n",
    "cov = [[0.3, 0.2],[0.2, 0.2]]\n",
    "data = np.random.multivariate_normal(mean, cov, N)\n",
    "L = linalg.cholesky(cov)\n",
    "# print(L.shape)\n",
    "# (2, 2)\n",
    "uncorrelated = np.random.standard_normal((2,N))\n",
    "data2 = np.dot(L,uncorrelated) + np.array(mean).reshape(2,1)\n",
    "# print(data2.shape)\n",
    "# (2, 1000)\n",
    "plt.scatter(data2[0,:], data2[1,:], c='blue')    \n",
    "plt.scatter(data[:,0], data[:,1], c='blue')\n",
    "plt.show()"
   ]
  },
  {
   "cell_type": "code",
   "execution_count": null,
   "metadata": {},
   "outputs": [],
   "source": []
  }
 ],
 "metadata": {
  "kernelspec": {
   "display_name": "Python 3",
   "language": "python",
   "name": "python3"
  },
  "language_info": {
   "codemirror_mode": {
    "name": "ipython",
    "version": 3
   },
   "file_extension": ".py",
   "mimetype": "text/x-python",
   "name": "python",
   "nbconvert_exporter": "python",
   "pygments_lexer": "ipython3",
   "version": "3.7.0"
  }
 },
 "nbformat": 4,
 "nbformat_minor": 2
}
