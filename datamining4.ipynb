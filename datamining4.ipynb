{
 "cells": [
  {
   "cell_type": "markdown",
   "metadata": {},
   "source": [
    "# ex1"
   ]
  },
  {
   "cell_type": "code",
   "execution_count": 1,
   "metadata": {},
   "outputs": [
    {
     "name": "stdout",
     "output_type": "stream",
     "text": [
      "[[4.7, 3.2, 1.3, 0.2, 'setosa'], [4.6, 3.1, 1.5, 0.2, 'setosa'], [5.0, 3.4, 1.5, 0.2, 'setosa'], [4.8, 3.4, 1.6, 0.2, 'setosa'], [5.8, 4.0, 1.2, 0.2, 'setosa'], [5.1, 3.5, 1.4, 0.3, 'setosa'], [5.7, 3.8, 1.7, 0.3, 'setosa'], [4.6, 3.6, 1.0, 0.2, 'setosa'], [5.0, 3.0, 1.6, 0.2, 'setosa'], [5.2, 3.5, 1.5, 0.2, 'setosa'], [5.2, 4.1, 1.5, 0.1, 'setosa'], [5.0, 3.2, 1.2, 0.2, 'setosa'], [5.0, 3.5, 1.6, 0.6, 'setosa'], [5.1, 3.8, 1.9, 0.4, 'setosa'], [4.8, 3.0, 1.4, 0.3, 'setosa'], [5.3, 3.7, 1.5, 0.2, 'setosa'], [6.4, 3.2, 4.5, 1.5, 'versicolor'], [6.9, 3.1, 4.9, 1.5, 'versicolor'], [5.9, 3.0, 4.2, 1.5, 'versicolor'], [6.0, 2.2, 4.0, 1.0, 'versicolor'], [5.6, 2.9, 3.6, 1.3, 'versicolor'], [5.6, 3.0, 4.5, 1.5, 'versicolor'], [5.9, 3.2, 4.8, 1.8, 'versicolor'], [6.8, 2.8, 4.8, 1.4, 'versicolor'], [6.7, 3.0, 5.0, 1.7, 'versicolor'], [5.6, 3.0, 4.1, 1.3, 'versicolor'], [5.5, 2.6, 4.4, 1.2, 'versicolor'], [5.8, 2.6, 4.0, 1.2, 'versicolor'], [5.6, 2.7, 4.2, 1.3, 'versicolor'], [6.2, 2.9, 4.3, 1.3, 'versicolor'], [5.7, 2.8, 4.1, 1.3, 'versicolor'], [5.8, 2.7, 5.1, 1.9, 'virginica'], [6.3, 2.9, 5.6, 1.8, 'virginica'], [7.6, 3.0, 6.6, 2.1, 'virginica'], [6.4, 2.7, 5.3, 1.9, 'virginica'], [6.5, 3.0, 5.5, 1.8, 'virginica'], [6.4, 2.8, 5.6, 2.1, 'virginica'], [7.2, 3.0, 5.8, 1.6, 'virginica'], [6.3, 3.4, 5.6, 2.4, 'virginica'], [6.9, 3.1, 5.4, 2.1, 'virginica'], [6.9, 3.1, 5.1, 2.3, 'virginica'], [6.8, 3.2, 5.9, 2.3, 'virginica'], [6.7, 3.3, 5.7, 2.5, 'virginica'], [5.9, 3.0, 5.1, 1.8, 'virginica']]\n"
     ]
    }
   ],
   "source": [
    "\n",
    "import pandas as pd\n",
    "import numpy as np\n",
    "import math\n",
    " \n",
    "trainingSet=[]\n",
    "testSet=[]\n",
    "split = 0.66\n",
    " \n",
    "#Function that allows to download a dataset from CSVfile\n",
    "#and divide it into two parts (trainingSet and testSet)\n",
    "def loadDataset(CSVfile):\n",
    "    data = pd.read_csv(CSVfile)\n",
    "    for i in range(len(data)):\n",
    "        if np.random.random()<split:\n",
    "            trainingSet.append(data.iloc[i].tolist())\n",
    "        else:\n",
    "            testSet.append(data.iloc[i].tolist())\n",
    "loadDataset('iris.csv')\n",
    "\n",
    "print(repr(testSet))"
   ]
  },
  {
   "cell_type": "code",
   "execution_count": 2,
   "metadata": {},
   "outputs": [],
   "source": [
    "#euclidean metric\n",
    "def euclideanDistance(instance1, instance2, length):\n",
    "    distance = 0\n",
    "    for x in range(length):\n",
    "        distance += pow((instance1[x] - instance2[x]), 2)\n",
    "        return math.sqrt(distance)"
   ]
  },
  {
   "cell_type": "code",
   "execution_count": 3,
   "metadata": {},
   "outputs": [],
   "source": [
    "#locate k most similar data instances\n",
    "import operator\n",
    "def getNeighbors (trainingSet, testSet, k):\n",
    "    distances = []\n",
    "    length = len(testSet)-1\n",
    "    for x in range(len(trainingSet)):\n",
    "        dist = euclideanDistance(testSet, trainingSet[x], length)\n",
    "        distances.append((trainingSet[x], dist))\n",
    "    distances.sort(key=operator.itemgetter(1))\n",
    "    neighbors = []\n",
    "    for x in range(k):\n",
    "        neighbors.append(distances[x][0])\n",
    "    return neighbors"
   ]
  },
  {
   "cell_type": "code",
   "execution_count": 4,
   "metadata": {},
   "outputs": [],
   "source": [
    "#generate response for a set of data instance\n",
    "import operator\n",
    "def getResponse(neighbors):\n",
    "    classVotes = {}\n",
    "    for x in range(len(neighbors)):\n",
    "        response = neighbors[x][-1]\n",
    "        if response in classVotes:\n",
    "            classVotes[response] += 1\n",
    "        else:\n",
    "            classVotes[response] = 1\n",
    "    sortedVotes = sorted(classVotes.items(), key = operator.itemgetter(1), reverse = True)\n",
    "    return sortedVotes[0][0]"
   ]
  },
  {
   "cell_type": "code",
   "execution_count": 5,
   "metadata": {},
   "outputs": [],
   "source": [
    "#get accuracy\n",
    "def getAccuracy(testSet, predictions):\n",
    "    correct = 0\n",
    "    for x in range(len(testSet)):\n",
    "        if testSet[x][4] == predictions[x]:\n",
    "            correct += 1\n",
    "    return (correct/float(len(testSet))) * 100.0"
   ]
  },
  {
   "cell_type": "code",
   "execution_count": 6,
   "metadata": {
    "scrolled": true
   },
   "outputs": [
    {
     "name": "stdout",
     "output_type": "stream",
     "text": [
      "predicted='setosa', species ='setosa'\n",
      "predicted='setosa', species ='setosa'\n",
      "predicted='setosa', species ='setosa'\n",
      "predicted='setosa', species ='setosa'\n",
      "predicted='versicolor', species ='setosa'\n",
      "predicted='setosa', species ='setosa'\n",
      "predicted='versicolor', species ='setosa'\n",
      "predicted='setosa', species ='setosa'\n",
      "predicted='setosa', species ='setosa'\n",
      "predicted='setosa', species ='setosa'\n",
      "predicted='setosa', species ='setosa'\n",
      "predicted='setosa', species ='setosa'\n",
      "predicted='setosa', species ='setosa'\n",
      "predicted='setosa', species ='setosa'\n",
      "predicted='setosa', species ='setosa'\n",
      "predicted='setosa', species ='setosa'\n",
      "predicted='virginica', species ='versicolor'\n",
      "predicted='virginica', species ='versicolor'\n",
      "predicted='versicolor', species ='versicolor'\n",
      "predicted='versicolor', species ='versicolor'\n",
      "predicted='versicolor', species ='versicolor'\n",
      "predicted='versicolor', species ='versicolor'\n",
      "predicted='versicolor', species ='versicolor'\n",
      "predicted='virginica', species ='versicolor'\n",
      "predicted='virginica', species ='versicolor'\n",
      "predicted='versicolor', species ='versicolor'\n",
      "predicted='versicolor', species ='versicolor'\n",
      "predicted='versicolor', species ='versicolor'\n",
      "predicted='versicolor', species ='versicolor'\n",
      "predicted='versicolor', species ='versicolor'\n",
      "predicted='versicolor', species ='versicolor'\n",
      "predicted='versicolor', species ='virginica'\n",
      "predicted='versicolor', species ='virginica'\n",
      "predicted='virginica', species ='virginica'\n",
      "predicted='virginica', species ='virginica'\n",
      "predicted='virginica', species ='virginica'\n",
      "predicted='virginica', species ='virginica'\n",
      "predicted='virginica', species ='virginica'\n",
      "predicted='versicolor', species ='virginica'\n",
      "predicted='virginica', species ='virginica'\n",
      "predicted='virginica', species ='virginica'\n",
      "predicted='virginica', species ='virginica'\n",
      "predicted='virginica', species ='virginica'\n",
      "predicted='versicolor', species ='virginica'\n",
      "Accuracy: 77.27272727272727%\n"
     ]
    }
   ],
   "source": [
    "predictions=[]\n",
    "k = 5\n",
    "\n",
    "for x in range(len(testSet)):\n",
    "    neighbors = getNeighbors(trainingSet, testSet[x], k)\n",
    "    result = getResponse(neighbors)\n",
    "    predictions.append(result)\n",
    "    print('predicted=' + repr(result) + ', species =' + repr(testSet[x][-1]))\n",
    "    \n",
    "    \n",
    "accuracy = getAccuracy(testSet, predictions)\n",
    "print('Accuracy: ' + repr(accuracy) + '%')"
   ]
  },
  {
   "cell_type": "markdown",
   "metadata": {},
   "source": [
    "# ex2"
   ]
  },
  {
   "cell_type": "code",
   "execution_count": 2,
   "metadata": {},
   "outputs": [
    {
     "name": "stdout",
     "output_type": "stream",
     "text": [
      "    day   outlook  temp humidity    wind play\n",
      "0    D1     Sunny   Hot     High    Weak   No\n",
      "1    D2     Sunny   Hot     High  Strong   No\n",
      "2    D3  Overcast   Hot     High    Weak  Yes\n",
      "3    D4      Rain  Mild     High    Weak  Yes\n",
      "4    D5      Rain  Cool   Normal    Weak  Yes\n",
      "5    D6      Rain  Cool   Normal  Strong   No\n",
      "6    D7  Overcast  Cool   Normal  Strong  Yes\n",
      "7    D8     Sunny  Mild     High    Weak   No\n",
      "8    D9     Sunny  Cool   Normal    Weak  Yes\n",
      "9   D10      Rain  Mild   Normal    Weak  Yes\n",
      "10  D11     Sunny  Mild   Normal  Strong  Yes\n",
      "11  D12  Overcast  Mild     High  Strong  Yes\n",
      "12  D13  Overcast   Hot   Normal    Weak  Yes\n",
      "13  D14      Rain  Mild     High  Strong   No\n",
      "P(yes | sunny, cool, high, strong) approximately is 0.07407407407407407\n",
      "P(no | sunny, cool, high, strong) approximately is 0.28800000000000003\n"
     ]
    }
   ],
   "source": [
    "import pandas as pd\n",
    "from __future__ import division\n",
    "\n",
    "#load data\n",
    "data = pd.read_csv('tennis.csv')\n",
    "print(data)\n",
    "\n",
    "yes = data.play == 'Yes'\n",
    "\n",
    "#case: sunny, cool, high, strong\n",
    "sunny = data.outlook == 'Sunny'\n",
    "cool = data.temp == 'Cool'\n",
    "high = data.humidity == 'High'\n",
    "strong = data.wind == 'Strong'\n",
    "\n",
    "ans = {\n",
    "    'yes': yes.sum(),\n",
    "    'no': (~yes).sum()\n",
    "}\n",
    "for elt in [sunny, cool, high, strong]:\n",
    "    ans['yes'] *= (yes & elt).sum() / yes.sum()\n",
    "    ans['no'] *= ((~yes) & elt).sum() / (~yes).sum()\n",
    "\n",
    "print('P(yes | sunny, cool, high, strong) approximately is {}'.format(ans['yes']))\n",
    "print('P(no | sunny, cool, high, strong) approximately is {}'.format(ans['no']))"
   ]
  }
 ],
 "metadata": {
  "kernelspec": {
   "display_name": "Python 3",
   "language": "python",
   "name": "python3"
  },
  "language_info": {
   "codemirror_mode": {
    "name": "ipython",
    "version": 3
   },
   "file_extension": ".py",
   "mimetype": "text/x-python",
   "name": "python",
   "nbconvert_exporter": "python",
   "pygments_lexer": "ipython3",
   "version": "3.7.0"
  }
 },
 "nbformat": 4,
 "nbformat_minor": 2
}
